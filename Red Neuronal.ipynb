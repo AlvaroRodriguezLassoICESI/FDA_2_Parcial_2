{
 "cells": [
  {
   "cell_type": "code",
   "execution_count": 1,
   "metadata": {},
   "outputs": [],
   "source": [
    "import pandas as pd\n",
    "import numpy as np\n",
    "import seaborn as sns\n",
    "import matplotlib.pyplot as plt\n",
    "import missingno as msno\n",
    "from sklearn.impute import KNNImputer\n",
    "from sklearn.experimental import enable_iterative_imputer\n",
    "from sklearn.impute import IterativeImputer\n",
    "from sklearn.linear_model import LinearRegression\n",
    "\n",
    "from sklearn.model_selection import train_test_split\n",
    "\n",
    "from sklearn.pipeline import Pipeline\n",
    "\n",
    "from sklearn.impute import SimpleImputer\n",
    "from sklearn.preprocessing import StandardScaler, OrdinalEncoder, OneHotEncoder\n",
    "\n",
    "from sklearn.impute import SimpleImputer\n",
    "\n",
    "from sklearn.compose import ColumnTransformer\n",
    "\n",
    "from sklearn.model_selection import cross_val_score\n",
    "\n",
    "from sklearn.linear_model import Ridge\n",
    "from sklearn.linear_model import LinearRegression\n",
    "from sklearn.linear_model import Lasso\n",
    "\n",
    "from sklearn import metrics\n",
    "from sklearn.metrics import mean_squared_error\n",
    "from sklearn.metrics import mean_squared_error\n",
    "from sklearn.metrics import r2_score\n",
    "\n",
    "import warnings\n",
    "warnings.filterwarnings('ignore')"
   ]
  },
  {
   "cell_type": "code",
   "execution_count": 2,
   "metadata": {},
   "outputs": [],
   "source": [
    "# Cargar el archivo df_train.parquet y df_test.parquet\n",
    "train_dataset = pd.read_parquet('df_train.parquet').head(2000)\n",
    "\n",
    "test_dataset  = pd.read_parquet('df_test.parquet') #.head(2000)\n"
   ]
  },
  {
   "cell_type": "markdown",
   "metadata": {},
   "source": [
    "1. Preprocesamiento de datos\n",
    "En este paso nos aseguramos de que los datos estén bien escalados antes de entrenar la red neuronal."
   ]
  },
  {
   "cell_type": "code",
   "execution_count": 3,
   "metadata": {},
   "outputs": [],
   "source": [
    "from sklearn.preprocessing import StandardScaler\n",
    "\n",
    "def preprocess_data(X_train, X_test):\n",
    "    scaler = StandardScaler()\n",
    "    X_train_scaled = scaler.fit_transform(X_train)\n",
    "    X_test_scaled = scaler.transform(X_test)\n",
    "    return X_train_scaled, X_test_scaled, scaler\n"
   ]
  },
  {
   "cell_type": "markdown",
   "metadata": {},
   "source": [
    "1. Definir funciones de activación\n",
    "Coloca las definiciones de las funciones de activación (incluyendo sigmoid) al principio del archivo:"
   ]
  },
  {
   "cell_type": "code",
   "execution_count": 4,
   "metadata": {},
   "outputs": [],
   "source": [
    "import numpy as np\n",
    "\n",
    "# Función Sigmoide\n",
    "def sigmoid(z):\n",
    "    return 1 / (1 + np.exp(-z))\n",
    "\n",
    "# Derivada de la función Sigmoide\n",
    "def sigmoid_derivative(a):\n",
    "    return a * (1 - a)\n",
    "\n",
    "# Función ReLU\n",
    "def relu(z):\n",
    "    return np.maximum(0, z)\n",
    "\n",
    "# Derivada de la función ReLU\n",
    "def relu_derivative(a):\n",
    "    return (a > 0).astype(float)\n"
   ]
  },
  {
   "cell_type": "markdown",
   "metadata": {},
   "source": [
    "2. Regularización L2\n",
    "Vamos a añadir una penalización de L2 (regularización) que aplicaremos a los pesos durante el entrenamiento para prevenir el sobreajuste."
   ]
  },
  {
   "cell_type": "code",
   "execution_count": 5,
   "metadata": {},
   "outputs": [],
   "source": [
    "def compute_l2_penalty(weights, l2_lambda):\n",
    "    l2_penalty = 0\n",
    "    for w in weights:\n",
    "        l2_penalty += np.sum(np.square(w))\n",
    "    return (l2_lambda / 2) * l2_penalty\n"
   ]
  },
  {
   "cell_type": "markdown",
   "metadata": {},
   "source": [
    "3. Aplicar dropout\n",
    "Dropout apaga aleatoriamente neuronas durante el entrenamiento para mejorar la robustez del modelo."
   ]
  },
  {
   "cell_type": "code",
   "execution_count": 6,
   "metadata": {},
   "outputs": [],
   "source": [
    "def apply_dropout(a, dropout_rate):\n",
    "    mask = np.random.rand(*a.shape) > dropout_rate\n",
    "    return a * mask / (1 - dropout_rate)\n"
   ]
  },
  {
   "cell_type": "markdown",
   "metadata": {},
   "source": [
    "4. Funciones de activación (optimización con Optuna)\n",
    "Añadimos la posibilidad de probar diferentes funciones de activación a través de un hiperparámetro."
   ]
  },
  {
   "cell_type": "code",
   "execution_count": 7,
   "metadata": {},
   "outputs": [],
   "source": [
    "def get_activation(activation_name):\n",
    "    if activation_name == \"relu\":\n",
    "        return relu, relu_derivative\n",
    "    elif activation_name == \"sigmoid\":\n",
    "        return sigmoid, sigmoid_derivative\n",
    "    elif activation_name == \"tanh\":\n",
    "        return np.tanh, lambda a: 1 - np.tanh(a) ** 2\n",
    "    else:\n",
    "        raise ValueError(f\"Función de activación desconocida: {activation_name}\")\n"
   ]
  },
  {
   "cell_type": "markdown",
   "metadata": {},
   "source": [
    "5. Propagación hacia adelante (con batch normalization y dropout)\n",
    "Incorporamos batch normalization y dropout en la propagación hacia adelante."
   ]
  },
  {
   "cell_type": "code",
   "execution_count": 8,
   "metadata": {},
   "outputs": [],
   "source": [
    "def forward_propagation(X, weights, biases, activation_name, dropout_rate, use_batchnorm=False):\n",
    "    activations = [X]\n",
    "    z_values = []\n",
    "    activation_fn, _ = get_activation(activation_name)\n",
    "    \n",
    "    for i in range(len(weights) - 1):\n",
    "        z = np.dot(activations[-1], weights[i]) + biases[i]\n",
    "        if use_batchnorm:\n",
    "            z = batch_normalization(z)\n",
    "        a = activation_fn(z)\n",
    "        if dropout_rate > 0:\n",
    "            a = apply_dropout(a, dropout_rate)\n",
    "        z_values.append(z)\n",
    "        activations.append(a)\n",
    "    \n",
    "    # Capa de salida\n",
    "    z = np.dot(activations[-1], weights[-1]) + biases[-1]\n",
    "    a = sigmoid(z)\n",
    "    z_values.append(z)\n",
    "    activations.append(a)\n",
    "    \n",
    "    return activations, z_values\n"
   ]
  },
  {
   "cell_type": "markdown",
   "metadata": {},
   "source": [
    "6. Batch normalization\n",
    "Normalizamos las activaciones de cada capa, lo que ayuda a estabilizar y acelerar el entrenamiento."
   ]
  },
  {
   "cell_type": "code",
   "execution_count": 9,
   "metadata": {},
   "outputs": [],
   "source": [
    "def batch_normalization(a, epsilon=1e-5):\n",
    "    mean = np.mean(a, axis=0)\n",
    "    variance = np.var(a, axis=0)\n",
    "    return (a - mean) / np.sqrt(variance + epsilon)\n"
   ]
  },
  {
   "cell_type": "markdown",
   "metadata": {},
   "source": [
    "7. Retropropagación con regularización L2\n",
    "Calculamos los gradientes y aplicamos la regularización L2."
   ]
  },
  {
   "cell_type": "code",
   "execution_count": 10,
   "metadata": {},
   "outputs": [],
   "source": [
    "def back_propagation(y, activations, z_values, weights, l2_lambda, activation_name):\n",
    "    m = y.shape[0]\n",
    "    deltas = []\n",
    "    grads_w = []\n",
    "    grads_b = []\n",
    "    _, activation_deriv = get_activation(activation_name)\n",
    "    \n",
    "    # Cálculo del error en la capa de salida\n",
    "    delta = activations[-1] - y.reshape(-1, 1)\n",
    "    deltas.append(delta)\n",
    "    \n",
    "    # Gradientes de la capa de salida\n",
    "    dw = np.dot(activations[-2].T, delta) / m + l2_lambda * weights[-1] / m\n",
    "    db = np.sum(delta, axis=0, keepdims=True) / m\n",
    "    grads_w.insert(0, dw)\n",
    "    grads_b.insert(0, db)\n",
    "    \n",
    "    # Retropropagación a través de las capas ocultas\n",
    "    for i in reversed(range(len(weights) - 1)):\n",
    "        delta = np.dot(delta, weights[i + 1].T) * activation_deriv(activations[i + 1])\n",
    "        dw = np.dot(activations[i].T, delta) / m + l2_lambda * weights[i] / m\n",
    "        db = np.sum(delta, axis=0, keepdims=True) / m\n",
    "        grads_w.insert(0, dw)\n",
    "        grads_b.insert(0, db)\n",
    "    \n",
    "    return grads_w, grads_b\n"
   ]
  },
  {
   "cell_type": "markdown",
   "metadata": {},
   "source": [
    "8. Función de entrenamiento (con early stopping y optimización Adam)\n",
    "Aquí combinamos la optimización Adam, early stopping, y regularización L2."
   ]
  },
  {
   "cell_type": "code",
   "execution_count": 11,
   "metadata": {},
   "outputs": [],
   "source": [
    "y_pred = pd.DataFrame(columns=[('Target')])\n",
    "y_pred.index.name = 'ID'"
   ]
  },
  {
   "cell_type": "code",
   "execution_count": 12,
   "metadata": {},
   "outputs": [],
   "source": [
    "def train_network(X_train, y_train, X_test, y_test, X_kaggle, params):\n",
    "    epochs = params['epochs']\n",
    "    learning_rate = params['learning_rate']\n",
    "    hidden_layers = params['hidden_layers']\n",
    "    activation_name = params['activation']\n",
    "    dropout_rate = params['dropout_rate']\n",
    "    l2_lambda = params['l2_lambda']\n",
    "    use_batchnorm = params['batchnorm']\n",
    "    early_stopping_patience = params['early_stopping_patience']\n",
    "    \n",
    "    # Inicialización de pesos y sesgos\n",
    "    weights = []\n",
    "    biases = []\n",
    "    layer_dims = [X_train.shape[1]] + hidden_layers + [1]\n",
    "    \n",
    "    for i in range(len(layer_dims) - 1):\n",
    "        w = np.random.randn(layer_dims[i], layer_dims[i + 1]) * 0.01\n",
    "        b = np.zeros((1, layer_dims[i + 1]))\n",
    "        weights.append(w)\n",
    "        biases.append(b)\n",
    "    \n",
    "    best_valid_loss = float('inf')\n",
    "    patience_counter = 0\n",
    "    \n",
    "    for epoch in range(epochs):\n",
    "        # Propagación hacia adelante\n",
    "        activations, z_values = forward_propagation(X_train, weights, biases, activation_name, dropout_rate, use_batchnorm)\n",
    "        \n",
    "        # Retropropagación\n",
    "        grads_w, grads_b = back_propagation(y_train, activations, z_values, weights, l2_lambda, activation_name)\n",
    "        \n",
    "        # Actualización de pesos y sesgos (Optimización Adam)\n",
    "        for i in range(len(weights)):\n",
    "            weights[i] -= learning_rate * grads_w[i]\n",
    "            biases[i] -= learning_rate * grads_b[i]\n",
    "        \n",
    "        if epoch % 100 == 0:\n",
    "            # Cálculo de la pérdida en validación\n",
    "            activations_valid, _ = forward_propagation(X_test, weights, biases, activation_name, 0, use_batchnorm)\n",
    "            y_pred_valid = activations_valid[-1]\n",
    "            valid_loss = np.mean((y_test.reshape(-1, 1) - y_pred_valid) ** 2) + compute_l2_penalty(weights, l2_lambda)\n",
    "            \n",
    "            # Early stopping\n",
    "            if valid_loss < best_valid_loss:\n",
    "                best_valid_loss = valid_loss\n",
    "                patience_counter = 0\n",
    "            else:\n",
    "                patience_counter += 1\n",
    "                if patience_counter >= early_stopping_patience:\n",
    "                    print(f\"Deteniendo el entrenamiento en la época {epoch} debido a early stopping.\")\n",
    "                    break\n",
    "\n",
    "    # Calcular el accuracy en el conjunto de prueba\n",
    "    activations_test, _ = forward_propagation(X_test, weights, biases, activation_name, 0, use_batchnorm)\n",
    "    y_pred_test = activations_test[-1]\n",
    "    y_pred_test_class = (y_pred_test > 0.5).astype(int)\n",
    "    accuracy = np.mean(y_pred_test_class == y_test)\n",
    "    \n",
    "    # Predicción con X_kaggle\n",
    "    activations_kaggle, _ = forward_propagation(X_kaggle, weights, biases, activation_name, 0, use_batchnorm)\n",
    "    y_pred_kaggle = activations_kaggle[-1]  # Predicciones con el conjunto X_kaggle\n",
    "    y_pred_kaggle_class = (y_pred_kaggle > 0.5).astype(int)  # Clasificación binaria\n",
    "\n",
    "    # Retornar el accuracy en el conjunto de test y las predicciones para X_kaggle\n",
    "    return accuracy, y_pred_test_class, y_pred_kaggle_class\n",
    "\n",
    "\n"
   ]
  },
  {
   "cell_type": "markdown",
   "metadata": {},
   "source": [
    "9. Optimización de hiperparámetros con Optuna\n",
    "Incorporamos la optimización de la función de activación, regularización L2, dropout, y uso de batch normalization."
   ]
  },
  {
   "cell_type": "code",
   "execution_count": 13,
   "metadata": {},
   "outputs": [],
   "source": [
    "def objective(trial):\n",
    "    global y_pred\n",
    "    epochs                  = trial.suggest_categorical('epochs', [1000]) #, 2000, 5000, 10000])\n",
    "    learning_rate           = trial.suggest_loguniform('learning_rate', 1e-5, 1e-1)\n",
    "    num_layers              = trial.suggest_int('num_layers', 1, 2) #4)\n",
    "    activation_name         = trial.suggest_categorical('activation', ['relu', 'sigmoid', 'tanh'])\n",
    "    dropout_rate            = trial.suggest_uniform('dropout_rate', 0.0, 0.5)\n",
    "    l2_lambda               = trial.suggest_loguniform('l2_lambda', 1e-5, 1e-1)\n",
    "    use_batchnorm           = trial.suggest_categorical('batchnorm', [True, False])\n",
    "    early_stopping_patience = trial.suggest_int('early_stopping_patience', 10, 100)\n",
    "    \n",
    "    hidden_layers = []\n",
    "    for i in range(num_layers):\n",
    "        n_neurons = trial.suggest_int(f'n_units_l{i}', 16, 128)\n",
    "        hidden_layers.append(n_neurons)\n",
    "    \n",
    "    params = {\n",
    "        'epochs': epochs,\n",
    "        'learning_rate': learning_rate,\n",
    "        'hidden_layers': hidden_layers,\n",
    "        'activation': activation_name,\n",
    "        'dropout_rate': dropout_rate,\n",
    "        'l2_lambda': l2_lambda,\n",
    "        'batchnorm': use_batchnorm,\n",
    "        'early_stopping_patience': early_stopping_patience\n",
    "    }\n",
    "    \n",
    "    global X_train, y_train, X_test, y_test\n",
    "    \n",
    "    y_train = y_train.values.reshape(-1, 1) if isinstance(y_train, pd.Series) else y_train.reshape(-1, 1)\n",
    "    y_test  = y_test.values.reshape(-1, 1) if isinstance(y_test, pd.Series) else y_test.reshape(-1, 1)\n",
    "\n",
    "    accuracy, y_pred = train_network(X_train, y_train, X_test, y_test, X_kaggle, params)\n",
    "    return accuracy\n",
    "\n",
    "#   valid_loss = train_network(X_train, y_train, X_test, y_test, params)\n",
    "#   return valid_loss\n"
   ]
  },
  {
   "cell_type": "markdown",
   "metadata": {},
   "source": [
    "10. Ejecutar la optimización\n",
    "Finalmente, ejecutamos la optimización utilizando Optuna:"
   ]
  },
  {
   "cell_type": "code",
   "execution_count": 14,
   "metadata": {},
   "outputs": [],
   "source": [
    "# Dividir los datos en entrenamiento y validación\n",
    "#X_train, X_test, y_train,y_test = train_test_split(X_trained, y_train, test_size=0.2, random_state=42)\n"
   ]
  },
  {
   "cell_type": "code",
   "execution_count": 15,
   "metadata": {},
   "outputs": [],
   "source": [
    "# Importar librerías necesarias\n",
    "from sklearn.ensemble import RandomForestClassifier\n",
    "from sklearn.model_selection import train_test_split\n",
    "from sklearn.compose import ColumnTransformer\n",
    "from sklearn.pipeline import Pipeline\n",
    "from sklearn.impute import SimpleImputer\n",
    "from sklearn.preprocessing import OneHotEncoder\n",
    "from sklearn.metrics import roc_auc_score\n",
    "from sklearn.metrics import RocCurveDisplay\n",
    "\n",
    "# Separar las variables predictoras y la variable objetivo\n",
    "X = train_dataset.drop('Target', axis=1)  # Elimina la columna objetivo 'Target'\n",
    "y = train_dataset['Target']  # Columna objetivo\n",
    "\n",
    "# Identificar variables categóricas y numéricas\n",
    "cat_features = X.select_dtypes(include=['object']).columns.tolist()  # Variables categóricas\n",
    "num_features = X.select_dtypes(exclude=['object']).columns.tolist()  # Variables numéricas\n",
    "\n",
    "# Dividir los datos en entrenamiento y prueba\n",
    "X_train, X_test, y_train, y_test = train_test_split(X, y, test_size=0.3, random_state=42)\n",
    "# Dividir los datos en entrenamiento y validación\n",
    "#X_train, X_test, y_train,y_test = train_test_split(X_trained, y_train, test_size=0.2, random_state=42)\n",
    "\n",
    "# Crear un transformador para las variables numéricas y categóricas\n",
    "preprocessor = ColumnTransformer(\n",
    "    transformers=[\n",
    "        ('num', SimpleImputer(strategy='median'), num_features),  # Imputación en numéricas\n",
    "        ('cat', OneHotEncoder(drop='first', handle_unknown='ignore'), cat_features)  # OneHotEncoding en categóricas\n",
    "    ])"
   ]
  },
  {
   "cell_type": "code",
   "execution_count": 16,
   "metadata": {},
   "outputs": [],
   "source": [
    "from sklearn.decomposition import PCA"
   ]
  },
  {
   "cell_type": "code",
   "execution_count": 17,
   "metadata": {},
   "outputs": [],
   "source": [
    "X_train = preprocessor.fit_transform(X_train)\n",
    "\n",
    "scaler  = StandardScaler()\n",
    "X_train = scaler.fit_transform(X_train)\n",
    "\n",
    "# Calcular el PCA con todos los componentes\n",
    "pca = PCA()\n",
    "pca.fit(X_train)\n",
    "\n",
    "X_test  = preprocessor.transform(X_test)\n",
    "X_test  = scaler.fit_transform(X_test)\n",
    "\n",
    "# Escalado de los datos\n",
    "X_train, X_test, scaler = preprocess_data(X_train, X_test)\n"
   ]
  },
  {
   "cell_type": "code",
   "execution_count": 18,
   "metadata": {},
   "outputs": [
    {
     "name": "stdout",
     "output_type": "stream",
     "text": [
      "Número de componentes que explican al menos el 80% de la varianza: 25\n"
     ]
    },
    {
     "data": {
      "image/png": "[encoded data removed]",
      "text/plain": [
       "<Figure size 640x480 with 1 Axes>"
      ]
     },
     "metadata": {},
     "output_type": "display_data"
    }
   ],
   "source": [
    "\n",
    "# Calcular la varianza explicada acumulada\n",
    "varianza_acumulada = np.cumsum(pca.explained_variance_ratio_)\n",
    "\n",
    "# Encontrar el número de componentes que explican al menos el 80% de la varianza\n",
    "n_componentes_80 = np.argmax(varianza_acumulada >= 0.80) + 1  # +1 porque los índices en Python empiezan en 0\n",
    "\n",
    "print(f\"Número de componentes que explican al menos el 80% de la varianza: {n_componentes_80}\")\n",
    "\n",
    "# Graficar la varianza explicada acumulada para ver cómo se comporta\n",
    "plt.plot(varianza_acumulada)\n",
    "plt.xlabel('Número de Componentes')\n",
    "plt.ylabel('Varianza Explicada Acumulada')\n",
    "plt.title('Curva de varianza explicada acumulada')\n",
    "plt.axhline(y=0.80, color='r', linestyle='--')  # Línea en el 80% de la varianza\n",
    "plt.axvline(x=n_componentes_80, color='r', linestyle='--')  # Línea en el número de componentes seleccionados\n",
    "plt.grid(True)\n",
    "plt.show()"
   ]
  },
  {
   "cell_type": "code",
   "execution_count": 19,
   "metadata": {},
   "outputs": [
    {
     "name": "stdout",
     "output_type": "stream",
     "text": [
      "Dimensiones de X_train_reduced: (1400, 25)\n",
      "Dimensiones de X_test_reduced: (600, 25)\n"
     ]
    }
   ],
   "source": [
    "# Dejar en X_train solo los componentes que explican al menos el 80% de la varianza\n",
    "X_train = pca.transform(X_train)[:, :n_componentes_80]\n",
    "X_test = pca.transform(X_test)[:, :n_componentes_80]\n",
    "\n",
    "print(f\"Dimensiones de X_train_reduced: {X_train.shape}\")\n",
    "print(f\"Dimensiones de X_test_reduced: {X_test.shape}\")"
   ]
  },
  {
   "cell_type": "code",
   "execution_count": 20,
   "metadata": {},
   "outputs": [
    {
     "name": "stderr",
     "output_type": "stream",
     "text": [
      "[I 2024-10-02 23:42:30,665] A new study created in memory with name: no-name-1f89bcbe-f261-4c15-9f39-4b00ce8c9a8b\n",
      "[I 2024-10-02 23:43:31,818] Trial 0 finished with value: 0.695 and parameters: {'epochs': 1000, 'learning_rate': 0.01949487366089295, 'num_layers': 1, 'activation': 'tanh', 'dropout_rate': 0.27475922806223996, 'l2_lambda': 0.02767406371304211, 'batchnorm': False, 'early_stopping_patience': 99, 'n_units_l0': 64}. Best is trial 0 with value: 0.695.\n",
      "[I 2024-10-02 23:44:25,755] Trial 1 finished with value: 0.695 and parameters: {'epochs': 1000, 'learning_rate': 0.0032943215211820144, 'num_layers': 2, 'activation': 'tanh', 'dropout_rate': 0.2632309131934038, 'l2_lambda': 0.002939641799836379, 'batchnorm': False, 'early_stopping_patience': 64, 'n_units_l0': 43, 'n_units_l1': 117}. Best is trial 0 with value: 0.695.\n"
     ]
    },
    {
     "name": "stdout",
     "output_type": "stream",
     "text": [
      "Mejores hiperparámetros:\n",
      "{'epochs': 1000, 'learning_rate': 0.01949487366089295, 'num_layers': 1, 'activation': 'tanh', 'dropout_rate': 0.27475922806223996, 'l2_lambda': 0.02767406371304211, 'batchnorm': False, 'early_stopping_patience': 99, 'n_units_l0': 64}\n",
      "Accuracy con los mejores hiperparámetros: 0.695\n"
     ]
    }
   ],
   "source": [
    "import optuna\n",
    "\n",
    "# Crear el estudio de Optuna\n",
    "study = optuna.create_study(direction='maximize')\n",
    "\n",
    "# Ejecutar la optimización con el número de ensayos (trials) que prefieras\n",
    "study.optimize(objective, n_trials=2)\n",
    "\n",
    "# Mostrar los mejores hiperparámetros encontrados\n",
    "print(\"Mejores hiperparámetros:\")\n",
    "print(study.best_params)\n",
    "\n",
    "# Ejecutar la función objective con los mejores hiperparámetros encontrados\n",
    "accuracy = objective(study.best_trial)\n",
    "print(f\"Accuracy con los mejores hiperparámetros: {accuracy}\")\n"
   ]
  },
  {
   "cell_type": "code",
   "execution_count": 30,
   "metadata": {},
   "outputs": [],
   "source": [
    "def kaggle_submit(test_data, predicciones, competition_name, message=\"Automated Submission\"):\n",
    "    # Generar archivo de submission\n",
    "    submission = pd.DataFrame({\n",
    "        'ID': test_data,\n",
    "        'Target': predicciones\n",
    "    })\n",
    "    submission_file = 'submission.csv'\n",
    "    submission.to_csv(submission_file, index=False)\n",
    "    \n",
    "    # Subir el archivo a Kaggle\n",
    "    !kaggle competitions submit -c {competition_name} -f {submission_file} -m \"{message}\"\n",
    "    \n",
    "    # Mostrar las submissions recientes\n",
    "    !kaggle competitions submissions -c {competition_name}\n"
   ]
  },
  {
   "cell_type": "code",
   "execution_count": 22,
   "metadata": {},
   "outputs": [
    {
     "data": {
      "text/plain": [
       "\"# Guardar el archivo de submission\\nsubmission_file = 'submission.csv'\\n\\n# Guardar el DataFrame 'y_pred' en un archivo CSV\\ny_pred.to_csv(submission_file, index=True)\""
      ]
     },
     "execution_count": 22,
     "metadata": {},
     "output_type": "execute_result"
    }
   ],
   "source": [
    "'''# Guardar el archivo de submission\n",
    "submission_file = 'submission.csv'\n",
    "\n",
    "# Guardar el DataFrame 'y_pred' en un archivo CSV\n",
    "y_pred.to_csv(submission_file, index=True)'''"
   ]
  },
  {
   "cell_type": "code",
   "execution_count": 31,
   "metadata": {},
   "outputs": [],
   "source": [
    "y_pred.index.name = 'ID'\n",
    "y_pred            = pd.DataFrame(y_pred, columns=['Target'])"
   ]
  },
  {
   "cell_type": "code",
   "execution_count": 33,
   "metadata": {},
   "outputs": [
    {
     "name": "stderr",
     "output_type": "stream",
     "text": [
      "\"kaggle\" no se reconoce como un comando interno o externo,\n",
      "programa o archivo por lotes ejecutable.\n",
      "\"kaggle\" no se reconoce como un comando interno o externo,\n",
      "programa o archivo por lotes ejecutable.\n"
     ]
    }
   ],
   "source": [
    "# Llamar la función\n",
    "kaggle_submit(y_pred.index, y_pred['Target'], 'fa-ii-2024-ii-flujos-de-modelos-tradicionales')\n"
   ]
  },
  {
   "cell_type": "code",
   "execution_count": 41,
   "metadata": {},
   "outputs": [],
   "source": [
    "# Guardar el DataFrame 'y_pred' en un archivo CSV\n",
    "y_pred.to_csv('submission.csv', index=True)"
   ]
  }
 ],
 "metadata": {
  "kernelspec": {
   "display_name": "base",
   "language": "python",
   "name": "python3"
  },
  "language_info": {
   "codemirror_mode": {
    "name": "ipython",
    "version": 3
   },
   "file_extension": ".py",
   "mimetype": "text/x-python",
   "name": "python",
   "nbconvert_exporter": "python",
   "pygments_lexer": "ipython3",
   "version": "3.11.7"
  }
 },
 "nbformat": 4,
 "nbformat_minor": 2
}
