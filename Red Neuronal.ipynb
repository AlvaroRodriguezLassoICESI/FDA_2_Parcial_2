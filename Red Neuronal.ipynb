{
 "cells": [
  {
   "cell_type": "code",
   "execution_count": 1,
   "metadata": {},
   "outputs": [],
   "source": [
    "import pandas as pd\n",
    "import numpy as np\n",
    "import seaborn as sns\n",
    "import matplotlib.pyplot as plt\n",
    "import missingno as msno\n",
    "from sklearn.impute import KNNImputer\n",
    "from sklearn.experimental import enable_iterative_imputer\n",
    "from sklearn.impute import IterativeImputer\n",
    "from sklearn.linear_model import LinearRegression\n",
    "\n",
    "from sklearn.model_selection import train_test_split\n",
    "\n",
    "from sklearn.pipeline import Pipeline\n",
    "\n",
    "from sklearn.impute import SimpleImputer\n",
    "from sklearn.preprocessing import StandardScaler, OrdinalEncoder, OneHotEncoder\n",
    "\n",
    "from sklearn.impute import SimpleImputer\n",
    "\n",
    "from sklearn.compose import ColumnTransformer\n",
    "\n",
    "from sklearn.model_selection import cross_val_score\n",
    "\n",
    "from sklearn.linear_model import Ridge\n",
    "from sklearn.linear_model import LinearRegression\n",
    "from sklearn.linear_model import Lasso\n",
    "\n",
    "from sklearn import metrics\n",
    "from sklearn.metrics import mean_squared_error\n",
    "from sklearn.metrics import mean_squared_error\n",
    "from sklearn.metrics import r2_score\n",
    "\n",
    "import warnings\n",
    "warnings.filterwarnings('ignore')"
   ]
  },
  {
   "cell_type": "code",
   "execution_count": 2,
   "metadata": {},
   "outputs": [],
   "source": [
    "# Cargar el archivo df_train.parquet y df_test.parquet\n",
    "train_dataset = pd.read_parquet('df_train.parquet').head(1000)\n",
    "\n",
    "test_dataset  = pd.read_parquet('df_test.parquet').head(1000)\n",
    "\n",
    "data_df = pd.read_parquet('df_train.parquet').head(1000)"
   ]
  },
  {
   "cell_type": "markdown",
   "metadata": {},
   "source": [
    "1. Preprocesamiento de datos\n",
    "En este paso nos aseguramos de que los datos estén bien escalados antes de entrenar la red neuronal."
   ]
  },
  {
   "cell_type": "code",
   "execution_count": 3,
   "metadata": {},
   "outputs": [],
   "source": [
    "from sklearn.preprocessing import StandardScaler\n",
    "\n",
    "def preprocess_data(X_train, X_test):\n",
    "    scaler = StandardScaler()\n",
    "    X_train_scaled = scaler.fit_transform(X_train)\n",
    "    X_test_scaled = scaler.transform(X_test)\n",
    "    return X_train_scaled, X_test_scaled, scaler\n"
   ]
  },
  {
   "cell_type": "markdown",
   "metadata": {},
   "source": [
    "1. Definir funciones de activación\n",
    "Coloca las definiciones de las funciones de activación (incluyendo sigmoid) al principio del archivo:"
   ]
  },
  {
   "cell_type": "code",
   "execution_count": 4,
   "metadata": {},
   "outputs": [],
   "source": [
    "import numpy as np\n",
    "\n",
    "# Función Sigmoide\n",
    "def sigmoid(z):\n",
    "    return 1 / (1 + np.exp(-z))\n",
    "\n",
    "# Derivada de la función Sigmoide\n",
    "def sigmoid_derivative(a):\n",
    "    return a * (1 - a)\n",
    "\n",
    "# Función ReLU\n",
    "def relu(z):\n",
    "    return np.maximum(0, z)\n",
    "\n",
    "# Derivada de la función ReLU\n",
    "def relu_derivative(a):\n",
    "    return (a > 0).astype(float)\n"
   ]
  },
  {
   "cell_type": "markdown",
   "metadata": {},
   "source": [
    "2. Regularización L2\n",
    "Vamos a añadir una penalización de L2 (regularización) que aplicaremos a los pesos durante el entrenamiento para prevenir el sobreajuste."
   ]
  },
  {
   "cell_type": "code",
   "execution_count": 5,
   "metadata": {},
   "outputs": [],
   "source": [
    "def compute_l2_penalty(weights, l2_lambda):\n",
    "    l2_penalty = 0\n",
    "    for w in weights:\n",
    "        l2_penalty += np.sum(np.square(w))\n",
    "    return (l2_lambda / 2) * l2_penalty\n"
   ]
  },
  {
   "cell_type": "markdown",
   "metadata": {},
   "source": [
    "3. Aplicar dropout\n",
    "Dropout apaga aleatoriamente neuronas durante el entrenamiento para mejorar la robustez del modelo."
   ]
  },
  {
   "cell_type": "code",
   "execution_count": 6,
   "metadata": {},
   "outputs": [],
   "source": [
    "def apply_dropout(a, dropout_rate):\n",
    "    mask = np.random.rand(*a.shape) > dropout_rate\n",
    "    return a * mask / (1 - dropout_rate)\n"
   ]
  },
  {
   "cell_type": "markdown",
   "metadata": {},
   "source": [
    "4. Funciones de activación (optimización con Optuna)\n",
    "Añadimos la posibilidad de probar diferentes funciones de activación a través de un hiperparámetro."
   ]
  },
  {
   "cell_type": "code",
   "execution_count": 7,
   "metadata": {},
   "outputs": [],
   "source": [
    "def get_activation(activation_name):\n",
    "    if activation_name == \"relu\":\n",
    "        return relu, relu_derivative\n",
    "    elif activation_name == \"sigmoid\":\n",
    "        return sigmoid, sigmoid_derivative\n",
    "    elif activation_name == \"tanh\":\n",
    "        return np.tanh, lambda a: 1 - np.tanh(a) ** 2\n",
    "    else:\n",
    "        raise ValueError(f\"Función de activación desconocida: {activation_name}\")\n"
   ]
  },
  {
   "cell_type": "markdown",
   "metadata": {},
   "source": [
    "5. Propagación hacia adelante (con batch normalization y dropout)\n",
    "Incorporamos batch normalization y dropout en la propagación hacia adelante."
   ]
  },
  {
   "cell_type": "code",
   "execution_count": 8,
   "metadata": {},
   "outputs": [],
   "source": [
    "def forward_propagation(X, weights, biases, activation_name, dropout_rate, use_batchnorm=False):\n",
    "    activations = [X]\n",
    "    z_values = []\n",
    "    activation_fn, _ = get_activation(activation_name)\n",
    "    \n",
    "    for i in range(len(weights) - 1):\n",
    "        z = np.dot(activations[-1], weights[i]) + biases[i]\n",
    "        if use_batchnorm:\n",
    "            z = batch_normalization(z)\n",
    "        a = activation_fn(z)\n",
    "        if dropout_rate > 0:\n",
    "            a = apply_dropout(a, dropout_rate)\n",
    "        z_values.append(z)\n",
    "        activations.append(a)\n",
    "    \n",
    "    # Capa de salida\n",
    "    z = np.dot(activations[-1], weights[-1]) + biases[-1]\n",
    "    a = sigmoid(z)\n",
    "    z_values.append(z)\n",
    "    activations.append(a)\n",
    "    \n",
    "    return activations, z_values\n"
   ]
  },
  {
   "cell_type": "markdown",
   "metadata": {},
   "source": [
    "6. Batch normalization\n",
    "Normalizamos las activaciones de cada capa, lo que ayuda a estabilizar y acelerar el entrenamiento."
   ]
  },
  {
   "cell_type": "code",
   "execution_count": 9,
   "metadata": {},
   "outputs": [],
   "source": [
    "def batch_normalization(a, epsilon=1e-5):\n",
    "    mean = np.mean(a, axis=0)\n",
    "    variance = np.var(a, axis=0)\n",
    "    return (a - mean) / np.sqrt(variance + epsilon)\n"
   ]
  },
  {
   "cell_type": "markdown",
   "metadata": {},
   "source": [
    "7. Retropropagación con regularización L2\n",
    "Calculamos los gradientes y aplicamos la regularización L2."
   ]
  },
  {
   "cell_type": "code",
   "execution_count": 10,
   "metadata": {},
   "outputs": [],
   "source": [
    "def back_propagation(y, activations, z_values, weights, l2_lambda, activation_name):\n",
    "    m = y.shape[0]\n",
    "    deltas = []\n",
    "    grads_w = []\n",
    "    grads_b = []\n",
    "    _, activation_deriv = get_activation(activation_name)\n",
    "    \n",
    "    # Cálculo del error en la capa de salida\n",
    "    delta = activations[-1] - y.reshape(-1, 1)\n",
    "    deltas.append(delta)\n",
    "    \n",
    "    # Gradientes de la capa de salida\n",
    "    dw = np.dot(activations[-2].T, delta) / m + l2_lambda * weights[-1] / m\n",
    "    db = np.sum(delta, axis=0, keepdims=True) / m\n",
    "    grads_w.insert(0, dw)\n",
    "    grads_b.insert(0, db)\n",
    "    \n",
    "    # Retropropagación a través de las capas ocultas\n",
    "    for i in reversed(range(len(weights) - 1)):\n",
    "        delta = np.dot(delta, weights[i + 1].T) * activation_deriv(activations[i + 1])\n",
    "        dw = np.dot(activations[i].T, delta) / m + l2_lambda * weights[i] / m\n",
    "        db = np.sum(delta, axis=0, keepdims=True) / m\n",
    "        grads_w.insert(0, dw)\n",
    "        grads_b.insert(0, db)\n",
    "    \n",
    "    return grads_w, grads_b\n"
   ]
  },
  {
   "cell_type": "markdown",
   "metadata": {},
   "source": [
    "8. Función de entrenamiento (con early stopping y optimización Adam)\n",
    "Aquí combinamos la optimización Adam, early stopping, y regularización L2."
   ]
  },
  {
   "cell_type": "code",
   "execution_count": 11,
   "metadata": {},
   "outputs": [],
   "source": [
    "def train_network(X_train, y_train, X_test,y_test, params):\n",
    "    epochs = params['epochs']\n",
    "    learning_rate = params['learning_rate']\n",
    "    hidden_layers = params['hidden_layers']\n",
    "    activation_name = params['activation']\n",
    "    dropout_rate = params['dropout_rate']\n",
    "    l2_lambda = params['l2_lambda']\n",
    "    use_batchnorm = params['batchnorm']\n",
    "    early_stopping_patience = params['early_stopping_patience']\n",
    "    \n",
    "    # Inicialización de pesos y sesgos\n",
    "    weights = []\n",
    "    biases = []\n",
    "    layer_dims = [X_train.shape[1]] + hidden_layers + [1]\n",
    "    \n",
    "    for i in range(len(layer_dims) - 1):\n",
    "        w = np.random.randn(layer_dims[i], layer_dims[i + 1]) * 0.01\n",
    "        b = np.zeros((1, layer_dims[i + 1]))\n",
    "        weights.append(w)\n",
    "        biases.append(b)\n",
    "    \n",
    "    best_valid_loss = float('inf')\n",
    "    patience_counter = 0\n",
    "    \n",
    "    for epoch in range(epochs):\n",
    "        # Propagación hacia adelante\n",
    "        activations, z_values = forward_propagation(X_train, weights, biases, activation_name, dropout_rate, use_batchnorm)\n",
    "        \n",
    "        # Retropropagación\n",
    "        grads_w, grads_b = back_propagation(y_train, activations, z_values, weights, l2_lambda, activation_name)\n",
    "        \n",
    "        # Actualización de pesos y sesgos (Optimización Adam)\n",
    "        for i in range(len(weights)):\n",
    "            weights[i] -= learning_rate * grads_w[i]\n",
    "            biases[i] -= learning_rate * grads_b[i]\n",
    "        \n",
    "        if epoch % 100 == 0:\n",
    "            # Cálculo de la pérdida en validación\n",
    "            activations_valid, _ = forward_propagation(X_test, weights, biases, activation_name, 0, use_batchnorm)\n",
    "            y_pred_valid = activations_valid[-1]\n",
    "            valid_loss = np.mean((y_test.reshape(-1, 1) - y_pred_valid) ** 2) + compute_l2_penalty(weights, l2_lambda)\n",
    "            \n",
    "            # Early stopping\n",
    "            if valid_loss < best_valid_loss:\n",
    "                best_valid_loss = valid_loss\n",
    "                patience_counter = 0\n",
    "            else:\n",
    "                patience_counter += 1\n",
    "                if patience_counter >= early_stopping_patience:\n",
    "                    print(f\"Deteniendo el entrenamiento en la época {epoch} debido a early stopping.\")\n",
    "                    break\n",
    "    # Calcular el accuracy en el conjunto de prueba\n",
    "    activations_test, _ = forward_propagation(X_test, weights, biases, activation_name, 0, use_batchnorm)\n",
    "    y_pred_test = activations_test[-1]\n",
    "    y_pred_test_class = (y_pred_test > 0.5).astype(int)\n",
    "    accuracy = np.mean(y_pred_test_class == y_test)\n",
    "    print(f\"Accuracy en el conjunto de prueba: {accuracy}\")\n",
    "    return best_valid_loss\n"
   ]
  },
  {
   "cell_type": "markdown",
   "metadata": {},
   "source": [
    "9. Optimización de hiperparámetros con Optuna\n",
    "Incorporamos la optimización de la función de activación, regularización L2, dropout, y uso de batch normalization."
   ]
  },
  {
   "cell_type": "code",
   "execution_count": 12,
   "metadata": {},
   "outputs": [],
   "source": [
    "def objective(trial):\n",
    "    epochs                  = trial.suggest_categorical('epochs', [1000]) #, 2000, 5000, 10000])\n",
    "    learning_rate           = trial.suggest_loguniform('learning_rate', 1e-5, 1e-1)\n",
    "    num_layers              = trial.suggest_int('num_layers', 1, 2) #4)\n",
    "    activation_name         = trial.suggest_categorical('activation', ['relu', 'sigmoid', 'tanh'])\n",
    "    dropout_rate            = trial.suggest_uniform('dropout_rate', 0.0, 0.5)\n",
    "    l2_lambda               = trial.suggest_loguniform('l2_lambda', 1e-5, 1e-1)\n",
    "    use_batchnorm           = trial.suggest_categorical('batchnorm', [True, False])\n",
    "    early_stopping_patience = trial.suggest_int('early_stopping_patience', 10, 100)\n",
    "    \n",
    "    hidden_layers = []\n",
    "    for i in range(num_layers):\n",
    "        n_neurons = trial.suggest_int(f'n_units_l{i}', 16, 128)\n",
    "        hidden_layers.append(n_neurons)\n",
    "    \n",
    "    params = {\n",
    "        'epochs': epochs,\n",
    "        'learning_rate': learning_rate,\n",
    "        'hidden_layers': hidden_layers,\n",
    "        'activation': activation_name,\n",
    "        'dropout_rate': dropout_rate,\n",
    "        'l2_lambda': l2_lambda,\n",
    "        'batchnorm': use_batchnorm,\n",
    "        'early_stopping_patience': early_stopping_patience\n",
    "    }\n",
    "    \n",
    "    global X_train, y_train, X_test, y_test\n",
    "    \n",
    "    y_train = y_train.values.reshape(-1, 1) if isinstance(y_train, pd.Series) else y_train.reshape(-1, 1)\n",
    "    y_test  = y_test.values.reshape(-1, 1) if isinstance(y_test, pd.Series) else y_test.reshape(-1, 1)\n",
    "\n",
    "    valid_loss = train_network(X_train, y_train, X_test, y_test, params)\n",
    "    \n",
    "    return valid_loss\n"
   ]
  },
  {
   "cell_type": "markdown",
   "metadata": {},
   "source": [
    "10. Ejecutar la optimización\n",
    "Finalmente, ejecutamos la optimización utilizando Optuna:"
   ]
  },
  {
   "cell_type": "code",
   "execution_count": 13,
   "metadata": {},
   "outputs": [],
   "source": [
    "# Dividir los datos en entrenamiento y validación\n",
    "#X_train, X_test, y_train,y_test = train_test_split(X_trained, y_train, test_size=0.2, random_state=42)\n"
   ]
  },
  {
   "cell_type": "code",
   "execution_count": 14,
   "metadata": {},
   "outputs": [],
   "source": [
    "# Importar librerías necesarias\n",
    "from sklearn.ensemble import RandomForestClassifier\n",
    "from sklearn.model_selection import train_test_split\n",
    "from sklearn.compose import ColumnTransformer\n",
    "from sklearn.pipeline import Pipeline\n",
    "from sklearn.impute import SimpleImputer\n",
    "from sklearn.preprocessing import OneHotEncoder\n",
    "from sklearn.metrics import roc_auc_score\n",
    "from sklearn.metrics import RocCurveDisplay\n",
    "\n",
    "# Separar las variables predictoras y la variable objetivo\n",
    "X = train_dataset.drop('Target', axis=1)  # Elimina la columna objetivo 'Target'\n",
    "y = train_dataset['Target']  # Columna objetivo\n",
    "\n",
    "# Identificar variables categóricas y numéricas\n",
    "cat_features = X.select_dtypes(include=['object']).columns.tolist()  # Variables categóricas\n",
    "num_features = X.select_dtypes(exclude=['object']).columns.tolist()  # Variables numéricas\n",
    "\n",
    "# Dividir los datos en entrenamiento y prueba\n",
    "X_train, X_test, y_train, y_test = train_test_split(X, y, test_size=0.3, random_state=42)\n",
    "# Dividir los datos en entrenamiento y validación\n",
    "#X_train, X_test, y_train,y_test = train_test_split(X_trained, y_train, test_size=0.2, random_state=42)\n",
    "\n",
    "# Crear un transformador para las variables numéricas y categóricas\n",
    "preprocessor = ColumnTransformer(\n",
    "    transformers=[\n",
    "        ('num', SimpleImputer(strategy='median'), num_features),  # Imputación en numéricas\n",
    "        ('cat', OneHotEncoder(drop='first', handle_unknown='ignore'), cat_features)  # OneHotEncoding en categóricas\n",
    "    ])"
   ]
  },
  {
   "cell_type": "code",
   "execution_count": 15,
   "metadata": {},
   "outputs": [],
   "source": [
    "from sklearn.decomposition import PCA"
   ]
  },
  {
   "cell_type": "code",
   "execution_count": 16,
   "metadata": {},
   "outputs": [],
   "source": [
    "X_train = preprocessor.fit_transform(X_train)\n",
    "\n",
    "scaler  = StandardScaler()\n",
    "X_train = scaler.fit_transform(X_train)\n",
    "\n",
    "# Calcular el PCA con todos los componentes\n",
    "pca = PCA()\n",
    "pca.fit(X_train)\n",
    "\n",
    "X_test  = preprocessor.transform(X_test)\n",
    "X_test  = scaler.fit_transform(X_test)\n",
    "\n",
    "# Escalado de los datos\n",
    "X_train, X_test, scaler = preprocess_data(X_train, X_test)\n"
   ]
  },
  {
   "cell_type": "code",
   "execution_count": 17,
   "metadata": {},
   "outputs": [
    {
     "name": "stdout",
     "output_type": "stream",
     "text": [
      "Número de componentes que explican al menos el 80% de la varianza: 27\n"
     ]
    },
    {
     "data": {
      "image/png": "[encoded data removed]",
      "text/plain": [
       "<Figure size 640x480 with 1 Axes>"
      ]
     },
     "metadata": {},
     "output_type": "display_data"
    }
   ],
   "source": [
    "\n",
    "# Calcular la varianza explicada acumulada\n",
    "varianza_acumulada = np.cumsum(pca.explained_variance_ratio_)\n",
    "\n",
    "# Encontrar el número de componentes que explican al menos el 80% de la varianza\n",
    "n_componentes_80 = np.argmax(varianza_acumulada >= 0.80) + 1  # +1 porque los índices en Python empiezan en 0\n",
    "\n",
    "print(f\"Número de componentes que explican al menos el 80% de la varianza: {n_componentes_80}\")\n",
    "\n",
    "# Graficar la varianza explicada acumulada para ver cómo se comporta\n",
    "plt.plot(varianza_acumulada)\n",
    "plt.xlabel('Número de Componentes')\n",
    "plt.ylabel('Varianza Explicada Acumulada')\n",
    "plt.title('Curva de varianza explicada acumulada')\n",
    "plt.axhline(y=0.80, color='r', linestyle='--')  # Línea en el 80% de la varianza\n",
    "plt.axvline(x=n_componentes_80, color='r', linestyle='--')  # Línea en el número de componentes seleccionados\n",
    "plt.grid(True)\n",
    "plt.show()"
   ]
  },
  {
   "cell_type": "code",
   "execution_count": 18,
   "metadata": {},
   "outputs": [
    {
     "name": "stdout",
     "output_type": "stream",
     "text": [
      "Dimensiones de X_train_reduced: (3500, 27)\n",
      "Dimensiones de X_test_reduced: (1500, 27)\n"
     ]
    }
   ],
   "source": [
    "# Dejar en X_train solo los componentes que explican al menos el 80% de la varianza\n",
    "X_train = pca.transform(X_train)[:, :n_componentes_80]\n",
    "X_test = pca.transform(X_test)[:, :n_componentes_80]\n",
    "\n",
    "print(f\"Dimensiones de X_train_reduced: {X_train.shape}\")\n",
    "print(f\"Dimensiones de X_test_reduced: {X_test.shape}\")"
   ]
  },
  {
   "cell_type": "code",
   "execution_count": 19,
   "metadata": {},
   "outputs": [
    {
     "name": "stderr",
     "output_type": "stream",
     "text": [
      "[I 2024-10-01 23:40:43,332] A new study created in memory with name: no-name-8ba504d8-e936-4bd2-a3b3-77e5761696f7\n",
      "[I 2024-10-01 23:41:32,601] Trial 0 finished with value: 0.19806452006338796 and parameters: {'epochs': 1000, 'learning_rate': 0.008654658117103543, 'num_layers': 2, 'activation': 'sigmoid', 'dropout_rate': 0.33344240912487666, 'l2_lambda': 6.516697393692623e-05, 'batchnorm': True, 'early_stopping_patience': 78, 'n_units_l0': 38, 'n_units_l1': 105}. Best is trial 0 with value: 0.19806452006338796.\n"
     ]
    },
    {
     "name": "stdout",
     "output_type": "stream",
     "text": [
      "Accuracy en el conjunto de prueba: 0.7293333333333333\n"
     ]
    },
    {
     "name": "stderr",
     "output_type": "stream",
     "text": [
      "[I 2024-10-01 23:42:31,524] Trial 1 finished with value: 0.23186641843908282 and parameters: {'epochs': 1000, 'learning_rate': 0.004038780096821357, 'num_layers': 2, 'activation': 'tanh', 'dropout_rate': 0.14103143711080274, 'l2_lambda': 0.064228385094748, 'batchnorm': True, 'early_stopping_patience': 45, 'n_units_l0': 74, 'n_units_l1': 75}. Best is trial 0 with value: 0.19806452006338796.\n"
     ]
    },
    {
     "name": "stdout",
     "output_type": "stream",
     "text": [
      "Accuracy en el conjunto de prueba: 0.7286666666666667\n"
     ]
    },
    {
     "name": "stderr",
     "output_type": "stream",
     "text": [
      "[I 2024-10-01 23:42:50,673] Trial 2 finished with value: 0.2492902208218269 and parameters: {'epochs': 1000, 'learning_rate': 2.7982261233644956e-05, 'num_layers': 1, 'activation': 'relu', 'dropout_rate': 0.4531632636014356, 'l2_lambda': 0.0004036285764298087, 'batchnorm': False, 'early_stopping_patience': 62, 'n_units_l0': 95}. Best is trial 0 with value: 0.19806452006338796.\n"
     ]
    },
    {
     "name": "stdout",
     "output_type": "stream",
     "text": [
      "Accuracy en el conjunto de prueba: 0.702\n"
     ]
    },
    {
     "name": "stderr",
     "output_type": "stream",
     "text": [
      "[I 2024-10-01 23:43:48,267] Trial 3 finished with value: 0.23760436352021283 and parameters: {'epochs': 1000, 'learning_rate': 0.001038686582758308, 'num_layers': 2, 'activation': 'tanh', 'dropout_rate': 0.4632013125834885, 'l2_lambda': 0.011073394916965691, 'batchnorm': False, 'early_stopping_patience': 76, 'n_units_l0': 62, 'n_units_l1': 115}. Best is trial 0 with value: 0.19806452006338796.\n"
     ]
    },
    {
     "name": "stdout",
     "output_type": "stream",
     "text": [
      "Accuracy en el conjunto de prueba: 0.7293333333333333\n"
     ]
    },
    {
     "name": "stderr",
     "output_type": "stream",
     "text": [
      "[I 2024-10-01 23:43:58,222] Trial 4 finished with value: 0.23917108813781573 and parameters: {'epochs': 1000, 'learning_rate': 0.0007239576995683043, 'num_layers': 1, 'activation': 'relu', 'dropout_rate': 0.1565187968481474, 'l2_lambda': 0.04055564736811765, 'batchnorm': False, 'early_stopping_patience': 64, 'n_units_l0': 43}. Best is trial 0 with value: 0.19806452006338796.\n"
     ]
    },
    {
     "name": "stdout",
     "output_type": "stream",
     "text": [
      "Accuracy en el conjunto de prueba: 0.7293333333333333\n"
     ]
    },
    {
     "name": "stderr",
     "output_type": "stream",
     "text": [
      "[I 2024-10-01 23:44:47,451] Trial 5 finished with value: 0.23602495835278695 and parameters: {'epochs': 1000, 'learning_rate': 6.337854907929691e-05, 'num_layers': 2, 'activation': 'sigmoid', 'dropout_rate': 0.2356633703669631, 'l2_lambda': 0.005508595366546277, 'batchnorm': True, 'early_stopping_patience': 75, 'n_units_l0': 92, 'n_units_l1': 47}. Best is trial 0 with value: 0.19806452006338796.\n"
     ]
    },
    {
     "name": "stdout",
     "output_type": "stream",
     "text": [
      "Accuracy en el conjunto de prueba: 0.7293333333333333\n"
     ]
    },
    {
     "name": "stderr",
     "output_type": "stream",
     "text": [
      "[I 2024-10-01 23:45:18,196] Trial 6 finished with value: 0.25292189434657975 and parameters: {'epochs': 1000, 'learning_rate': 0.00015335633800285224, 'num_layers': 1, 'activation': 'tanh', 'dropout_rate': 0.2351722036325974, 'l2_lambda': 0.04329866416250028, 'batchnorm': False, 'early_stopping_patience': 97, 'n_units_l0': 97}. Best is trial 0 with value: 0.19806452006338796.\n"
     ]
    },
    {
     "name": "stdout",
     "output_type": "stream",
     "text": [
      "Accuracy en el conjunto de prueba: 0.7293333333333333\n"
     ]
    },
    {
     "name": "stderr",
     "output_type": "stream",
     "text": [
      "[W 2024-10-01 23:46:02,589] Trial 7 failed with parameters: {'epochs': 1000, 'learning_rate': 3.682578266534539e-05, 'num_layers': 2, 'activation': 'tanh', 'dropout_rate': 0.386818896565973, 'l2_lambda': 0.000663598003323863, 'batchnorm': True, 'early_stopping_patience': 14, 'n_units_l0': 65, 'n_units_l1': 48} because of the following error: KeyboardInterrupt().\n",
      "Traceback (most recent call last):\n",
      "  File \"C:\\Users\\apont\\AppData\\Roaming\\Python\\Python311\\site-packages\\optuna\\study\\_optimize.py\", line 196, in _run_trial\n",
      "    value_or_values = func(trial)\n",
      "                      ^^^^^^^^^^^\n",
      "  File \"C:\\Users\\apont\\AppData\\Local\\Temp\\ipykernel_30084\\2748098547.py\", line 32, in objective\n",
      "    valid_loss = train_network(X_train, y_train, X_test, y_test, params)\n",
      "                 ^^^^^^^^^^^^^^^^^^^^^^^^^^^^^^^^^^^^^^^^^^^^^^^^^^^^^^^\n",
      "  File \"C:\\Users\\apont\\AppData\\Local\\Temp\\ipykernel_30084\\3682870009.py\", line 30, in train_network\n",
      "    grads_w, grads_b = back_propagation(y_train, activations, z_values, weights, l2_lambda, activation_name)\n",
      "                       ^^^^^^^^^^^^^^^^^^^^^^^^^^^^^^^^^^^^^^^^^^^^^^^^^^^^^^^^^^^^^^^^^^^^^^^^^^^^^^^^^^^^^\n",
      "  File \"C:\\Users\\apont\\AppData\\Local\\Temp\\ipykernel_30084\\3733057394.py\", line 20, in back_propagation\n",
      "    delta = np.dot(delta, weights[i + 1].T) * activation_deriv(activations[i + 1])\n",
      "                                              ^^^^^^^^^^^^^^^^^^^^^^^^^^^^^^^^^^^^\n",
      "  File \"C:\\Users\\apont\\AppData\\Local\\Temp\\ipykernel_30084\\556908100.py\", line 7, in <lambda>\n",
      "    return np.tanh, lambda a: 1 - np.tanh(a) ** 2\n",
      "                                  ^^^^^^^^^^\n",
      "KeyboardInterrupt\n",
      "[W 2024-10-01 23:46:02,592] Trial 7 failed with value None.\n"
     ]
    },
    {
     "ename": "KeyboardInterrupt",
     "evalue": "",
     "output_type": "error",
     "traceback": [
      "\u001b[1;31m---------------------------------------------------------------------------\u001b[0m",
      "\u001b[1;31mKeyboardInterrupt\u001b[0m                         Traceback (most recent call last)",
      "Cell \u001b[1;32mIn[19], line 7\u001b[0m\n\u001b[0;32m      4\u001b[0m study \u001b[38;5;241m=\u001b[39m optuna\u001b[38;5;241m.\u001b[39mcreate_study(direction\u001b[38;5;241m=\u001b[39m\u001b[38;5;124m'\u001b[39m\u001b[38;5;124mminimize\u001b[39m\u001b[38;5;124m'\u001b[39m)\n\u001b[0;32m      6\u001b[0m \u001b[38;5;66;03m# Ejecutar la optimización con el número de ensayos (trials) que prefieras\u001b[39;00m\n\u001b[1;32m----> 7\u001b[0m study\u001b[38;5;241m.\u001b[39moptimize(objective, n_trials\u001b[38;5;241m=\u001b[39m\u001b[38;5;241m30\u001b[39m)\n\u001b[0;32m      9\u001b[0m \u001b[38;5;66;03m# Mostrar los mejores hiperparámetros encontrados\u001b[39;00m\n\u001b[0;32m     10\u001b[0m \u001b[38;5;28mprint\u001b[39m(\u001b[38;5;124m\"\u001b[39m\u001b[38;5;124mMejores hiperparámetros:\u001b[39m\u001b[38;5;124m\"\u001b[39m)\n",
      "File \u001b[1;32m~\\AppData\\Roaming\\Python\\Python311\\site-packages\\optuna\\study\\study.py:451\u001b[0m, in \u001b[0;36mStudy.optimize\u001b[1;34m(self, func, n_trials, timeout, n_jobs, catch, callbacks, gc_after_trial, show_progress_bar)\u001b[0m\n\u001b[0;32m    348\u001b[0m \u001b[38;5;28;01mdef\u001b[39;00m \u001b[38;5;21moptimize\u001b[39m(\n\u001b[0;32m    349\u001b[0m     \u001b[38;5;28mself\u001b[39m,\n\u001b[0;32m    350\u001b[0m     func: ObjectiveFuncType,\n\u001b[1;32m   (...)\u001b[0m\n\u001b[0;32m    357\u001b[0m     show_progress_bar: \u001b[38;5;28mbool\u001b[39m \u001b[38;5;241m=\u001b[39m \u001b[38;5;28;01mFalse\u001b[39;00m,\n\u001b[0;32m    358\u001b[0m ) \u001b[38;5;241m-\u001b[39m\u001b[38;5;241m>\u001b[39m \u001b[38;5;28;01mNone\u001b[39;00m:\n\u001b[0;32m    359\u001b[0m \u001b[38;5;250m    \u001b[39m\u001b[38;5;124;03m\"\"\"Optimize an objective function.\u001b[39;00m\n\u001b[0;32m    360\u001b[0m \n\u001b[0;32m    361\u001b[0m \u001b[38;5;124;03m    Optimization is done by choosing a suitable set of hyperparameter values from a given\u001b[39;00m\n\u001b[1;32m   (...)\u001b[0m\n\u001b[0;32m    449\u001b[0m \u001b[38;5;124;03m            If nested invocation of this method occurs.\u001b[39;00m\n\u001b[0;32m    450\u001b[0m \u001b[38;5;124;03m    \"\"\"\u001b[39;00m\n\u001b[1;32m--> 451\u001b[0m     _optimize(\n\u001b[0;32m    452\u001b[0m         study\u001b[38;5;241m=\u001b[39m\u001b[38;5;28mself\u001b[39m,\n\u001b[0;32m    453\u001b[0m         func\u001b[38;5;241m=\u001b[39mfunc,\n\u001b[0;32m    454\u001b[0m         n_trials\u001b[38;5;241m=\u001b[39mn_trials,\n\u001b[0;32m    455\u001b[0m         timeout\u001b[38;5;241m=\u001b[39mtimeout,\n\u001b[0;32m    456\u001b[0m         n_jobs\u001b[38;5;241m=\u001b[39mn_jobs,\n\u001b[0;32m    457\u001b[0m         catch\u001b[38;5;241m=\u001b[39m\u001b[38;5;28mtuple\u001b[39m(catch) \u001b[38;5;28;01mif\u001b[39;00m \u001b[38;5;28misinstance\u001b[39m(catch, Iterable) \u001b[38;5;28;01melse\u001b[39;00m (catch,),\n\u001b[0;32m    458\u001b[0m         callbacks\u001b[38;5;241m=\u001b[39mcallbacks,\n\u001b[0;32m    459\u001b[0m         gc_after_trial\u001b[38;5;241m=\u001b[39mgc_after_trial,\n\u001b[0;32m    460\u001b[0m         show_progress_bar\u001b[38;5;241m=\u001b[39mshow_progress_bar,\n\u001b[0;32m    461\u001b[0m     )\n",
      "File \u001b[1;32m~\\AppData\\Roaming\\Python\\Python311\\site-packages\\optuna\\study\\_optimize.py:62\u001b[0m, in \u001b[0;36m_optimize\u001b[1;34m(study, func, n_trials, timeout, n_jobs, catch, callbacks, gc_after_trial, show_progress_bar)\u001b[0m\n\u001b[0;32m     60\u001b[0m \u001b[38;5;28;01mtry\u001b[39;00m:\n\u001b[0;32m     61\u001b[0m     \u001b[38;5;28;01mif\u001b[39;00m n_jobs \u001b[38;5;241m==\u001b[39m \u001b[38;5;241m1\u001b[39m:\n\u001b[1;32m---> 62\u001b[0m         _optimize_sequential(\n\u001b[0;32m     63\u001b[0m             study,\n\u001b[0;32m     64\u001b[0m             func,\n\u001b[0;32m     65\u001b[0m             n_trials,\n\u001b[0;32m     66\u001b[0m             timeout,\n\u001b[0;32m     67\u001b[0m             catch,\n\u001b[0;32m     68\u001b[0m             callbacks,\n\u001b[0;32m     69\u001b[0m             gc_after_trial,\n\u001b[0;32m     70\u001b[0m             reseed_sampler_rng\u001b[38;5;241m=\u001b[39m\u001b[38;5;28;01mFalse\u001b[39;00m,\n\u001b[0;32m     71\u001b[0m             time_start\u001b[38;5;241m=\u001b[39m\u001b[38;5;28;01mNone\u001b[39;00m,\n\u001b[0;32m     72\u001b[0m             progress_bar\u001b[38;5;241m=\u001b[39mprogress_bar,\n\u001b[0;32m     73\u001b[0m         )\n\u001b[0;32m     74\u001b[0m     \u001b[38;5;28;01melse\u001b[39;00m:\n\u001b[0;32m     75\u001b[0m         \u001b[38;5;28;01mif\u001b[39;00m n_jobs \u001b[38;5;241m==\u001b[39m \u001b[38;5;241m-\u001b[39m\u001b[38;5;241m1\u001b[39m:\n",
      "File \u001b[1;32m~\\AppData\\Roaming\\Python\\Python311\\site-packages\\optuna\\study\\_optimize.py:159\u001b[0m, in \u001b[0;36m_optimize_sequential\u001b[1;34m(study, func, n_trials, timeout, catch, callbacks, gc_after_trial, reseed_sampler_rng, time_start, progress_bar)\u001b[0m\n\u001b[0;32m    156\u001b[0m         \u001b[38;5;28;01mbreak\u001b[39;00m\n\u001b[0;32m    158\u001b[0m \u001b[38;5;28;01mtry\u001b[39;00m:\n\u001b[1;32m--> 159\u001b[0m     frozen_trial \u001b[38;5;241m=\u001b[39m _run_trial(study, func, catch)\n\u001b[0;32m    160\u001b[0m \u001b[38;5;28;01mfinally\u001b[39;00m:\n\u001b[0;32m    161\u001b[0m     \u001b[38;5;66;03m# The following line mitigates memory problems that can be occurred in some\u001b[39;00m\n\u001b[0;32m    162\u001b[0m     \u001b[38;5;66;03m# environments (e.g., services that use computing containers such as GitHub Actions).\u001b[39;00m\n\u001b[0;32m    163\u001b[0m     \u001b[38;5;66;03m# Please refer to the following PR for further details:\u001b[39;00m\n\u001b[0;32m    164\u001b[0m     \u001b[38;5;66;03m# https://github.com/optuna/optuna/pull/325.\u001b[39;00m\n\u001b[0;32m    165\u001b[0m     \u001b[38;5;28;01mif\u001b[39;00m gc_after_trial:\n",
      "File \u001b[1;32m~\\AppData\\Roaming\\Python\\Python311\\site-packages\\optuna\\study\\_optimize.py:247\u001b[0m, in \u001b[0;36m_run_trial\u001b[1;34m(study, func, catch)\u001b[0m\n\u001b[0;32m    240\u001b[0m         \u001b[38;5;28;01massert\u001b[39;00m \u001b[38;5;28;01mFalse\u001b[39;00m, \u001b[38;5;124m\"\u001b[39m\u001b[38;5;124mShould not reach.\u001b[39m\u001b[38;5;124m\"\u001b[39m\n\u001b[0;32m    242\u001b[0m \u001b[38;5;28;01mif\u001b[39;00m (\n\u001b[0;32m    243\u001b[0m     frozen_trial\u001b[38;5;241m.\u001b[39mstate \u001b[38;5;241m==\u001b[39m TrialState\u001b[38;5;241m.\u001b[39mFAIL\n\u001b[0;32m    244\u001b[0m     \u001b[38;5;129;01mand\u001b[39;00m func_err \u001b[38;5;129;01mis\u001b[39;00m \u001b[38;5;129;01mnot\u001b[39;00m \u001b[38;5;28;01mNone\u001b[39;00m\n\u001b[0;32m    245\u001b[0m     \u001b[38;5;129;01mand\u001b[39;00m \u001b[38;5;129;01mnot\u001b[39;00m \u001b[38;5;28misinstance\u001b[39m(func_err, catch)\n\u001b[0;32m    246\u001b[0m ):\n\u001b[1;32m--> 247\u001b[0m     \u001b[38;5;28;01mraise\u001b[39;00m func_err\n\u001b[0;32m    248\u001b[0m \u001b[38;5;28;01mreturn\u001b[39;00m frozen_trial\n",
      "File \u001b[1;32m~\\AppData\\Roaming\\Python\\Python311\\site-packages\\optuna\\study\\_optimize.py:196\u001b[0m, in \u001b[0;36m_run_trial\u001b[1;34m(study, func, catch)\u001b[0m\n\u001b[0;32m    194\u001b[0m \u001b[38;5;28;01mwith\u001b[39;00m get_heartbeat_thread(trial\u001b[38;5;241m.\u001b[39m_trial_id, study\u001b[38;5;241m.\u001b[39m_storage):\n\u001b[0;32m    195\u001b[0m     \u001b[38;5;28;01mtry\u001b[39;00m:\n\u001b[1;32m--> 196\u001b[0m         value_or_values \u001b[38;5;241m=\u001b[39m func(trial)\n\u001b[0;32m    197\u001b[0m     \u001b[38;5;28;01mexcept\u001b[39;00m exceptions\u001b[38;5;241m.\u001b[39mTrialPruned \u001b[38;5;28;01mas\u001b[39;00m e:\n\u001b[0;32m    198\u001b[0m         \u001b[38;5;66;03m# TODO(mamu): Handle multi-objective cases.\u001b[39;00m\n\u001b[0;32m    199\u001b[0m         state \u001b[38;5;241m=\u001b[39m TrialState\u001b[38;5;241m.\u001b[39mPRUNED\n",
      "Cell \u001b[1;32mIn[12], line 32\u001b[0m, in \u001b[0;36mobjective\u001b[1;34m(trial)\u001b[0m\n\u001b[0;32m     29\u001b[0m y_train \u001b[38;5;241m=\u001b[39m y_train\u001b[38;5;241m.\u001b[39mvalues\u001b[38;5;241m.\u001b[39mreshape(\u001b[38;5;241m-\u001b[39m\u001b[38;5;241m1\u001b[39m, \u001b[38;5;241m1\u001b[39m) \u001b[38;5;28;01mif\u001b[39;00m \u001b[38;5;28misinstance\u001b[39m(y_train, pd\u001b[38;5;241m.\u001b[39mSeries) \u001b[38;5;28;01melse\u001b[39;00m y_train\u001b[38;5;241m.\u001b[39mreshape(\u001b[38;5;241m-\u001b[39m\u001b[38;5;241m1\u001b[39m, \u001b[38;5;241m1\u001b[39m)\n\u001b[0;32m     30\u001b[0m y_test  \u001b[38;5;241m=\u001b[39m y_test\u001b[38;5;241m.\u001b[39mvalues\u001b[38;5;241m.\u001b[39mreshape(\u001b[38;5;241m-\u001b[39m\u001b[38;5;241m1\u001b[39m, \u001b[38;5;241m1\u001b[39m) \u001b[38;5;28;01mif\u001b[39;00m \u001b[38;5;28misinstance\u001b[39m(y_test, pd\u001b[38;5;241m.\u001b[39mSeries) \u001b[38;5;28;01melse\u001b[39;00m y_test\u001b[38;5;241m.\u001b[39mreshape(\u001b[38;5;241m-\u001b[39m\u001b[38;5;241m1\u001b[39m, \u001b[38;5;241m1\u001b[39m)\n\u001b[1;32m---> 32\u001b[0m valid_loss \u001b[38;5;241m=\u001b[39m train_network(X_train, y_train, X_test, y_test, params)\n\u001b[0;32m     34\u001b[0m \u001b[38;5;28;01mreturn\u001b[39;00m valid_loss\n",
      "Cell \u001b[1;32mIn[11], line 30\u001b[0m, in \u001b[0;36mtrain_network\u001b[1;34m(X_train, y_train, X_test, y_test, params)\u001b[0m\n\u001b[0;32m     27\u001b[0m activations, z_values \u001b[38;5;241m=\u001b[39m forward_propagation(X_train, weights, biases, activation_name, dropout_rate, use_batchnorm)\n\u001b[0;32m     29\u001b[0m \u001b[38;5;66;03m# Retropropagación\u001b[39;00m\n\u001b[1;32m---> 30\u001b[0m grads_w, grads_b \u001b[38;5;241m=\u001b[39m back_propagation(y_train, activations, z_values, weights, l2_lambda, activation_name)\n\u001b[0;32m     32\u001b[0m \u001b[38;5;66;03m# Actualización de pesos y sesgos (Optimización Adam)\u001b[39;00m\n\u001b[0;32m     33\u001b[0m \u001b[38;5;28;01mfor\u001b[39;00m i \u001b[38;5;129;01min\u001b[39;00m \u001b[38;5;28mrange\u001b[39m(\u001b[38;5;28mlen\u001b[39m(weights)):\n",
      "Cell \u001b[1;32mIn[10], line 20\u001b[0m, in \u001b[0;36mback_propagation\u001b[1;34m(y, activations, z_values, weights, l2_lambda, activation_name)\u001b[0m\n\u001b[0;32m     18\u001b[0m \u001b[38;5;66;03m# Retropropagación a través de las capas ocultas\u001b[39;00m\n\u001b[0;32m     19\u001b[0m \u001b[38;5;28;01mfor\u001b[39;00m i \u001b[38;5;129;01min\u001b[39;00m \u001b[38;5;28mreversed\u001b[39m(\u001b[38;5;28mrange\u001b[39m(\u001b[38;5;28mlen\u001b[39m(weights) \u001b[38;5;241m-\u001b[39m \u001b[38;5;241m1\u001b[39m)):\n\u001b[1;32m---> 20\u001b[0m     delta \u001b[38;5;241m=\u001b[39m np\u001b[38;5;241m.\u001b[39mdot(delta, weights[i \u001b[38;5;241m+\u001b[39m \u001b[38;5;241m1\u001b[39m]\u001b[38;5;241m.\u001b[39mT) \u001b[38;5;241m*\u001b[39m activation_deriv(activations[i \u001b[38;5;241m+\u001b[39m \u001b[38;5;241m1\u001b[39m])\n\u001b[0;32m     21\u001b[0m     dw \u001b[38;5;241m=\u001b[39m np\u001b[38;5;241m.\u001b[39mdot(activations[i]\u001b[38;5;241m.\u001b[39mT, delta) \u001b[38;5;241m/\u001b[39m m \u001b[38;5;241m+\u001b[39m l2_lambda \u001b[38;5;241m*\u001b[39m weights[i] \u001b[38;5;241m/\u001b[39m m\n\u001b[0;32m     22\u001b[0m     db \u001b[38;5;241m=\u001b[39m np\u001b[38;5;241m.\u001b[39msum(delta, axis\u001b[38;5;241m=\u001b[39m\u001b[38;5;241m0\u001b[39m, keepdims\u001b[38;5;241m=\u001b[39m\u001b[38;5;28;01mTrue\u001b[39;00m) \u001b[38;5;241m/\u001b[39m m\n",
      "Cell \u001b[1;32mIn[7], line 7\u001b[0m, in \u001b[0;36mget_activation.<locals>.<lambda>\u001b[1;34m(a)\u001b[0m\n\u001b[0;32m      5\u001b[0m     \u001b[38;5;28;01mreturn\u001b[39;00m sigmoid, sigmoid_derivative\n\u001b[0;32m      6\u001b[0m \u001b[38;5;28;01melif\u001b[39;00m activation_name \u001b[38;5;241m==\u001b[39m \u001b[38;5;124m\"\u001b[39m\u001b[38;5;124mtanh\u001b[39m\u001b[38;5;124m\"\u001b[39m:\n\u001b[1;32m----> 7\u001b[0m     \u001b[38;5;28;01mreturn\u001b[39;00m np\u001b[38;5;241m.\u001b[39mtanh, \u001b[38;5;28;01mlambda\u001b[39;00m a: \u001b[38;5;241m1\u001b[39m \u001b[38;5;241m-\u001b[39m np\u001b[38;5;241m.\u001b[39mtanh(a) \u001b[38;5;241m*\u001b[39m\u001b[38;5;241m*\u001b[39m \u001b[38;5;241m2\u001b[39m\n\u001b[0;32m      8\u001b[0m \u001b[38;5;28;01melse\u001b[39;00m:\n\u001b[0;32m      9\u001b[0m     \u001b[38;5;28;01mraise\u001b[39;00m \u001b[38;5;167;01mValueError\u001b[39;00m(\u001b[38;5;124mf\u001b[39m\u001b[38;5;124m\"\u001b[39m\u001b[38;5;124mFunción de activación desconocida: \u001b[39m\u001b[38;5;132;01m{\u001b[39;00mactivation_name\u001b[38;5;132;01m}\u001b[39;00m\u001b[38;5;124m\"\u001b[39m)\n",
      "\u001b[1;31mKeyboardInterrupt\u001b[0m: "
     ]
    }
   ],
   "source": [
    "import optuna\n",
    "\n",
    "# Crear el estudio de Optuna\n",
    "study = optuna.create_study(direction='minimize')\n",
    "\n",
    "# Ejecutar la optimización con el número de ensayos (trials) que prefieras\n",
    "study.optimize(objective, n_trials=30)\n",
    "\n",
    "# Mostrar los mejores hiperparámetros encontrados\n",
    "print(\"Mejores hiperparámetros:\")\n",
    "print(study.best_params)\n",
    "\n"
   ]
  }
 ],
 "metadata": {
  "kernelspec": {
   "display_name": "base",
   "language": "python",
   "name": "python3"
  },
  "language_info": {
   "codemirror_mode": {
    "name": "ipython",
    "version": 3
   },
   "file_extension": ".py",
   "mimetype": "text/x-python",
   "name": "python",
   "nbconvert_exporter": "python",
   "pygments_lexer": "ipython3",
   "version": "3.11.7"
  }
 },
 "nbformat": 4,
 "nbformat_minor": 2
}
