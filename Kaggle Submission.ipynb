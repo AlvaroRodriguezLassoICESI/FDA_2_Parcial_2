{
 "cells": [
  {
   "cell_type": "code",
   "execution_count": 2,
   "metadata": {},
   "outputs": [],
   "source": [
    "import json\n",
    "import os\n",
    "\n",
    "# Guarda tus credenciales en una carpeta oculta .kaggle\n",
    "kaggle_creds = {\n",
    "    \"username\": \"ajapontes\",  # Reemplaza con tu usuario\n",
    "    \"key\": \"af7fa1548e461f9c77b5592c34cb78a1\"            # Reemplaza con tu key de Kaggle\n",
    "}\n",
    "\n",
    "# Crea la carpeta si no existe\n",
    "os.makedirs(os.path.expanduser(\"~/.kaggle/\"), exist_ok=True)\n",
    "\n",
    "# Escribe el archivo kaggle.json\n",
    "with open(os.path.expanduser(\"~/.kaggle/kaggle.json\"), 'w') as f:\n",
    "    json.dump(kaggle_creds, f)\n",
    "\n",
    "# Cambia los permisos del archivo para mayor seguridad\n",
    "os.chmod(os.path.expanduser(\"~/.kaggle/kaggle.json\"), 0o600)\n"
   ]
  }
 ],
 "metadata": {
  "kernelspec": {
   "display_name": "base",
   "language": "python",
   "name": "python3"
  },
  "language_info": {
   "codemirror_mode": {
    "name": "ipython",
    "version": 3
   },
   "file_extension": ".py",
   "mimetype": "text/x-python",
   "name": "python",
   "nbconvert_exporter": "python",
   "pygments_lexer": "ipython3",
   "version": "3.11.7"
  }
 },
 "nbformat": 4,
 "nbformat_minor": 2
}
